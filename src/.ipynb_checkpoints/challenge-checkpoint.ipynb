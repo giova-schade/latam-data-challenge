{
 "cells": [
  {
   "cell_type": "markdown",
   "metadata": {},
   "source": [
    "En este archivo puedes escribir lo que estimes conveniente. Te recomendamos detallar tu solución y todas las suposiciones que estás considerando. Aquí puedes ejecutar las funciones que definiste en los otros archivos de la carpeta src, medir el tiempo, memoria, etc."
   ]
  },
  {
   "cell_type": "code",
   "execution_count": null,
   "metadata": {},
   "outputs": [],
   "source": [
    "#file_path = \"farmers-protest-tweets-2021-2-4.json\""
   ]
  },
  {
   "cell_type": "code",
   "execution_count": 1,
   "metadata": {},
   "outputs": [
    {
     "name": "stdout",
     "output_type": "stream",
     "text": [
      "Please visit this URL to authorize this application: https://accounts.google.com/o/oauth2/auth?response_type=code&client_id=599532363525-5u182ldoepqgj4pqahd8ed1ioadta546.apps.googleusercontent.com&redirect_uri=http%3A%2F%2Flocalhost%3A53619%2F&scope=https%3A%2F%2Fwww.googleapis.com%2Fauth%2Fdrive.readonly&state=FF0XpCzc1lfJfGCIiJO0AWwfW2HOkU&access_type=offline\n",
      "Descargando 100%.\n",
      "Archivos extraídos en: /Users/giovannischadecasteletti/Desktop/Giovanni/proyectos/LATAM/challenge_DE/src/utils/../../data/raw\n",
      "Archivo ZIP eliminado: /Users/giovannischadecasteletti/Desktop/Giovanni/proyectos/LATAM/challenge_DE/src/utils/../../data/raw/tweets.json.zip\n"
     ]
    }
   ],
   "source": [
    "from utils.file_utils import download_and_extract_file\n",
    "#descargo información\n",
    "download_and_extract_file()"
   ]
  },
  {
   "cell_type": "code",
   "execution_count": 4,
   "metadata": {},
   "outputs": [
    {
     "name": "stdout",
     "output_type": "stream",
     "text": [
      "2024-11-09 20:08:59,741 INFO sqlalchemy.engine.Engine select pg_catalog.version()\n",
      "2024-11-09 20:08:59,743 INFO sqlalchemy.engine.Engine [raw sql] {}\n",
      "2024-11-09 20:08:59,746 INFO sqlalchemy.engine.Engine select current_schema()\n",
      "2024-11-09 20:08:59,747 INFO sqlalchemy.engine.Engine [raw sql] {}\n",
      "2024-11-09 20:08:59,769 INFO sqlalchemy.engine.Engine show standard_conforming_strings\n",
      "2024-11-09 20:08:59,769 INFO sqlalchemy.engine.Engine [raw sql] {}\n",
      "2024-11-09 20:08:59,770 INFO sqlalchemy.engine.Engine BEGIN (implicit)\n",
      "2024-11-09 20:08:59,771 INFO sqlalchemy.engine.Engine CREATE SCHEMA IF NOT EXISTS latam;\n",
      "2024-11-09 20:08:59,771 INFO sqlalchemy.engine.Engine [generated in 0.00041s] {}\n",
      "2024-11-09 20:08:59,775 INFO sqlalchemy.engine.Engine COMMIT\n",
      "Esquema 'latam' creado con éxito.\n",
      "2024-11-09 20:08:59,776 INFO sqlalchemy.engine.Engine BEGIN (implicit)\n",
      "2024-11-09 20:08:59,784 INFO sqlalchemy.engine.Engine SELECT pg_catalog.pg_class.relname \n",
      "FROM pg_catalog.pg_class JOIN pg_catalog.pg_namespace ON pg_catalog.pg_namespace.oid = pg_catalog.pg_class.relnamespace \n",
      "WHERE pg_catalog.pg_class.relname = %(table_name)s AND pg_catalog.pg_class.relkind = ANY (ARRAY[%(param_1)s, %(param_2)s, %(param_3)s, %(param_4)s, %(param_5)s]) AND pg_catalog.pg_namespace.nspname = %(nspname_1)s\n",
      "2024-11-09 20:08:59,785 INFO sqlalchemy.engine.Engine [generated in 0.00069s] {'table_name': 'emojis', 'param_1': 'r', 'param_2': 'p', 'param_3': 'f', 'param_4': 'v', 'param_5': 'm', 'nspname_1': 'latam'}\n",
      "2024-11-09 20:08:59,793 INFO sqlalchemy.engine.Engine SELECT pg_catalog.pg_class.relname \n",
      "FROM pg_catalog.pg_class JOIN pg_catalog.pg_namespace ON pg_catalog.pg_namespace.oid = pg_catalog.pg_class.relnamespace \n",
      "WHERE pg_catalog.pg_class.relname = %(table_name)s AND pg_catalog.pg_class.relkind = ANY (ARRAY[%(param_1)s, %(param_2)s, %(param_3)s, %(param_4)s, %(param_5)s]) AND pg_catalog.pg_namespace.nspname = %(nspname_1)s\n",
      "2024-11-09 20:08:59,793 INFO sqlalchemy.engine.Engine [cached since 0.008945s ago] {'table_name': 'hashtags', 'param_1': 'r', 'param_2': 'p', 'param_3': 'f', 'param_4': 'v', 'param_5': 'm', 'nspname_1': 'latam'}\n",
      "2024-11-09 20:08:59,796 INFO sqlalchemy.engine.Engine SELECT pg_catalog.pg_class.relname \n",
      "FROM pg_catalog.pg_class JOIN pg_catalog.pg_namespace ON pg_catalog.pg_namespace.oid = pg_catalog.pg_class.relnamespace \n",
      "WHERE pg_catalog.pg_class.relname = %(table_name)s AND pg_catalog.pg_class.relkind = ANY (ARRAY[%(param_1)s, %(param_2)s, %(param_3)s, %(param_4)s, %(param_5)s]) AND pg_catalog.pg_namespace.nspname = %(nspname_1)s\n",
      "2024-11-09 20:08:59,796 INFO sqlalchemy.engine.Engine [cached since 0.012s ago] {'table_name': 'media', 'param_1': 'r', 'param_2': 'p', 'param_3': 'f', 'param_4': 'v', 'param_5': 'm', 'nspname_1': 'latam'}\n",
      "2024-11-09 20:08:59,797 INFO sqlalchemy.engine.Engine SELECT pg_catalog.pg_class.relname \n",
      "FROM pg_catalog.pg_class JOIN pg_catalog.pg_namespace ON pg_catalog.pg_namespace.oid = pg_catalog.pg_class.relnamespace \n",
      "WHERE pg_catalog.pg_class.relname = %(table_name)s AND pg_catalog.pg_class.relkind = ANY (ARRAY[%(param_1)s, %(param_2)s, %(param_3)s, %(param_4)s, %(param_5)s]) AND pg_catalog.pg_namespace.nspname = %(nspname_1)s\n",
      "2024-11-09 20:08:59,797 INFO sqlalchemy.engine.Engine [cached since 0.01293s ago] {'table_name': 'mentions', 'param_1': 'r', 'param_2': 'p', 'param_3': 'f', 'param_4': 'v', 'param_5': 'm', 'nspname_1': 'latam'}\n",
      "2024-11-09 20:08:59,798 INFO sqlalchemy.engine.Engine SELECT pg_catalog.pg_class.relname \n",
      "FROM pg_catalog.pg_class JOIN pg_catalog.pg_namespace ON pg_catalog.pg_namespace.oid = pg_catalog.pg_class.relnamespace \n",
      "WHERE pg_catalog.pg_class.relname = %(table_name)s AND pg_catalog.pg_class.relkind = ANY (ARRAY[%(param_1)s, %(param_2)s, %(param_3)s, %(param_4)s, %(param_5)s]) AND pg_catalog.pg_namespace.nspname = %(nspname_1)s\n",
      "2024-11-09 20:08:59,798 INFO sqlalchemy.engine.Engine [cached since 0.01397s ago] {'table_name': 'tweets', 'param_1': 'r', 'param_2': 'p', 'param_3': 'f', 'param_4': 'v', 'param_5': 'm', 'nspname_1': 'latam'}\n",
      "2024-11-09 20:08:59,799 INFO sqlalchemy.engine.Engine SELECT pg_catalog.pg_class.relname \n",
      "FROM pg_catalog.pg_class JOIN pg_catalog.pg_namespace ON pg_catalog.pg_namespace.oid = pg_catalog.pg_class.relnamespace \n",
      "WHERE pg_catalog.pg_class.relname = %(table_name)s AND pg_catalog.pg_class.relkind = ANY (ARRAY[%(param_1)s, %(param_2)s, %(param_3)s, %(param_4)s, %(param_5)s]) AND pg_catalog.pg_namespace.nspname = %(nspname_1)s\n",
      "2024-11-09 20:08:59,799 INFO sqlalchemy.engine.Engine [cached since 0.01505s ago] {'table_name': 'users', 'param_1': 'r', 'param_2': 'p', 'param_3': 'f', 'param_4': 'v', 'param_5': 'm', 'nspname_1': 'latam'}\n",
      "2024-11-09 20:08:59,801 INFO sqlalchemy.engine.Engine \n",
      "CREATE TABLE latam.users (\n",
      "\tuser_id BIGSERIAL NOT NULL, \n",
      "\tusername VARCHAR(255) NOT NULL, \n",
      "\tdisplayname TEXT, \n",
      "\tfollowers_count INTEGER, \n",
      "\tfriends_count INTEGER, \n",
      "\tverified BOOLEAN, \n",
      "\tcreated_at TIMESTAMP WITHOUT TIME ZONE, \n",
      "\tPRIMARY KEY (user_id), \n",
      "\tUNIQUE (username)\n",
      ")\n",
      "\n",
      "\n",
      "2024-11-09 20:08:59,801 INFO sqlalchemy.engine.Engine [no key 0.00027s] {}\n",
      "2024-11-09 20:08:59,835 INFO sqlalchemy.engine.Engine \n",
      "CREATE TABLE latam.tweets (\n",
      "\ttweet_id BIGSERIAL NOT NULL, \n",
      "\turl TEXT, \n",
      "\tcontent TEXT, \n",
      "\tdate TIMESTAMP WITHOUT TIME ZONE, \n",
      "\tlang VARCHAR(10), \n",
      "\tsource TEXT, \n",
      "\tuser_id BIGINT, \n",
      "\treply_count INTEGER, \n",
      "\tretweet_count INTEGER, \n",
      "\tlike_count INTEGER, \n",
      "\tquote_count INTEGER, \n",
      "\tPRIMARY KEY (tweet_id), \n",
      "\tFOREIGN KEY(user_id) REFERENCES latam.users (user_id)\n",
      ")\n",
      "\n",
      "\n",
      "2024-11-09 20:08:59,835 INFO sqlalchemy.engine.Engine [no key 0.00035s] {}\n",
      "2024-11-09 20:08:59,869 INFO sqlalchemy.engine.Engine \n",
      "CREATE TABLE latam.emojis (\n",
      "\temoji_id SERIAL NOT NULL, \n",
      "\ttweet_id BIGINT, \n",
      "\temojis JSON, \n",
      "\tcount INTEGER, \n",
      "\tPRIMARY KEY (emoji_id), \n",
      "\tFOREIGN KEY(tweet_id) REFERENCES latam.tweets (tweet_id)\n",
      ")\n",
      "\n",
      "\n",
      "2024-11-09 20:08:59,870 INFO sqlalchemy.engine.Engine [no key 0.00042s] {}\n",
      "2024-11-09 20:08:59,878 INFO sqlalchemy.engine.Engine \n",
      "CREATE TABLE latam.hashtags (\n",
      "\thashtag_id SERIAL NOT NULL, \n",
      "\ttweet_id BIGINT, \n",
      "\thashtags JSON, \n",
      "\tPRIMARY KEY (hashtag_id), \n",
      "\tFOREIGN KEY(tweet_id) REFERENCES latam.tweets (tweet_id)\n",
      ")\n",
      "\n",
      "\n",
      "2024-11-09 20:08:59,878 INFO sqlalchemy.engine.Engine [no key 0.00037s] {}\n",
      "2024-11-09 20:08:59,883 INFO sqlalchemy.engine.Engine \n",
      "CREATE TABLE latam.media (\n",
      "\tmedia_id SERIAL NOT NULL, \n",
      "\ttweet_id BIGINT, \n",
      "\tmedia_type VARCHAR(50), \n",
      "\tmedia_url TEXT, \n",
      "\tPRIMARY KEY (media_id), \n",
      "\tFOREIGN KEY(tweet_id) REFERENCES latam.tweets (tweet_id)\n",
      ")\n",
      "\n",
      "\n",
      "2024-11-09 20:08:59,883 INFO sqlalchemy.engine.Engine [no key 0.00038s] {}\n",
      "2024-11-09 20:08:59,887 INFO sqlalchemy.engine.Engine \n",
      "CREATE TABLE latam.mentions (\n",
      "\tmention_id SERIAL NOT NULL, \n",
      "\ttweet_id BIGINT, \n",
      "\tmentions JSON, \n",
      "\tPRIMARY KEY (mention_id), \n",
      "\tFOREIGN KEY(tweet_id) REFERENCES latam.tweets (tweet_id)\n",
      ")\n",
      "\n",
      "\n",
      "2024-11-09 20:08:59,887 INFO sqlalchemy.engine.Engine [no key 0.00031s] {}\n",
      "2024-11-09 20:08:59,891 INFO sqlalchemy.engine.Engine COMMIT\n",
      "Tablas creadas con éxito.\n"
     ]
    }
   ],
   "source": [
    "#creo esquema latam en postgress\n",
    "from utils.db_setup import create_schema_and_tables\n",
    "\n",
    "# Llamada a la función para crear el esquema y las tablas\n",
    "create_schema_and_tables()\n"
   ]
  },
  {
   "cell_type": "code",
   "execution_count": 1,
   "metadata": {},
   "outputs": [
    {
     "name": "stdout",
     "output_type": "stream",
     "text": [
      "Datos cargados en la base de datos con éxito.\n"
     ]
    }
   ],
   "source": [
    "#ejecuto proceso de carga de datos\n",
    "from utils.data_loader import process_and_load_data \n",
    "\n",
    "process_and_load_data()\n"
   ]
  },
  {
   "cell_type": "code",
   "execution_count": 1,
   "metadata": {},
   "outputs": [
    {
     "name": "stdout",
     "output_type": "stream",
     "text": [
      "peak memory: 98.50 MiB, increment: 7.88 MiB\n",
      "[(datetime.date(2021, 2, 19), 'Preetm91'), (datetime.date(2021, 2, 18), 'neetuanjle_nitu'), (datetime.date(2021, 2, 17), 'RaaJVinderkaur'), (datetime.date(2021, 2, 13), 'MaanDee08215437'), (datetime.date(2021, 2, 12), 'RanbirS00614606'), (datetime.date(2021, 2, 21), 'Surrypuria'), (datetime.date(2021, 2, 18), 'rebelpacifist'), (datetime.date(2021, 2, 19), 'KaurDosanjh1979'), (datetime.date(2021, 2, 23), 'Surrypuria'), (datetime.date(2021, 2, 15), 'jot__b')]\n",
      "CPU times: user 179 ms, sys: 42.6 ms, total: 222 ms\n",
      "Wall time: 726 ms\n"
     ]
    }
   ],
   "source": [
    "%%time\n",
    "%load_ext memory_profiler\n",
    "\n",
    "from q1_time import q1_time \n",
    "\n",
    "# Ejecutar la función y mostrar los resultados\n",
    "\"\"\"\n",
    "Usamos esta técnica de consulta directa y optimizada en SQL porque permite trasladar \n",
    "la carga de procesamiento a la base de datos, aprovechando su capacidad para realizar\n",
    "operaciones de agrupación, conteo y ordenación de manera más eficiente que al hacerlo en Python.\n",
    "\"\"\"\n",
    "\n",
    "%memit results = q1_time()\n",
    "print(results)\n"
   ]
  },
  {
   "cell_type": "code",
   "execution_count": 4,
   "metadata": {},
   "outputs": [
    {
     "name": "stdout",
     "output_type": "stream",
     "text": [
      "The memory_profiler extension is already loaded. To reload it, use:\n",
      "  %reload_ext memory_profiler\n",
      "peak memory: 86.47 MiB, increment: 0.00 MiB\n",
      "[(datetime.date(2021, 2, 19), 'Preetm91'), (datetime.date(2021, 2, 18), 'neetuanjle_nitu'), (datetime.date(2021, 2, 17), 'RaaJVinderkaur'), (datetime.date(2021, 2, 13), 'MaanDee08215437'), (datetime.date(2021, 2, 12), 'RanbirS00614606'), (datetime.date(2021, 2, 21), 'Surrypuria'), (datetime.date(2021, 2, 18), 'rebelpacifist'), (datetime.date(2021, 2, 19), 'KaurDosanjh1979'), (datetime.date(2021, 2, 23), 'Surrypuria'), (datetime.date(2021, 2, 15), 'jot__b')]\n",
      "CPU times: user 39.2 ms, sys: 18.1 ms, total: 57.2 ms\n",
      "Wall time: 1.46 s\n"
     ]
    }
   ],
   "source": [
    "%%time\n",
    "%load_ext memory_profiler\n",
    "from q1_memory import q1_memory\n",
    "\n",
    "\"\"\"\n",
    "Usamos esta técnica de consulta SQL directa porque permite que la base de datos \n",
    "realice la mayor parte del trabajo pesado,\n",
    "como la agrupación y ordenación, de manera eficiente. \n",
    "\n",
    "La diferencia con la otra técnica es que la ORM es más pesada porque agrega una capa de abstracción que traduce el código Python en consultas SQL. \n",
    "\"\"\"\n",
    "%memit results = q1_memory()\n",
    "\n",
    "# Mostrar los resultados\n",
    "print(results)\n"
   ]
  },
  {
   "cell_type": "code",
   "execution_count": 3,
   "metadata": {},
   "outputs": [
    {
     "name": "stdout",
     "output_type": "stream",
     "text": [
      "The memory_profiler extension is already loaded. To reload it, use:\n",
      "  %reload_ext memory_profiler\n",
      "peak memory: 91.62 MiB, increment: 10.95 MiB\n",
      "[('🙏', 14641), ('🌾', 8291), ('🚜', 6195), ('❤', 5346), ('🏻', 4414), ('💪', 4005), ('✊', 3942), ('😂', 3206), ('🏽', 3069), ('🤣', 1735)]\n",
      "CPU times: user 113 ms, sys: 21.5 ms, total: 135 ms\n",
      "Wall time: 488 ms\n"
     ]
    }
   ],
   "source": [
    "%%time\n",
    "%load_ext memory_profiler\n",
    "from q2_time import q2_time\n",
    "\n",
    "\"\"\"\n",
    "\n",
    "Usamos la técnica de Counter.update() porque permite realizar el conteo de elementos de manera \n",
    "muy eficiente, esta función incrementa el contador de cada elemento en un solo paso sin necesidad\n",
    "de recorrer múltiples veces la lista\"\"\"\n",
    "%memit results = q2_time()\n",
    "\n",
    "# Mostrar los resultados\n",
    "print(results)\n"
   ]
  },
  {
   "cell_type": "code",
   "execution_count": 2,
   "metadata": {},
   "outputs": [
    {
     "name": "stdout",
     "output_type": "stream",
     "text": [
      "The memory_profiler extension is already loaded. To reload it, use:\n",
      "  %reload_ext memory_profiler\n",
      "peak memory: 83.06 MiB, increment: 3.98 MiB\n",
      "[('🙏', 14641), ('🌾', 8291), ('🚜', 6195), ('❤', 5346), ('🏻', 4414), ('💪', 4005), ('✊', 3942), ('😂', 3206), ('🏽', 3069), ('🤣', 1735)]\n",
      "CPU times: user 81 ms, sys: 24 ms, total: 105 ms\n",
      "Wall time: 633 ms\n"
     ]
    }
   ],
   "source": [
    "%%time\n",
    "%load_ext memory_profiler\n",
    "from q2_memory import q2_memory\n",
    "\n",
    "\"\"\"\n",
    "Usamos una técnica de procesamiento por lotes para mejorar el uso de la memoria con el fin de manejar grandes volúmenes de datos de manera eficiente,\n",
    "evitando cargar todo en memoria al mismo tiempo y reduciendo el riesgo de desbordamientos\n",
    "\"\"\"\n",
    "%memit results = q2_memory()\n",
    "\n",
    "# Mostrar los resultados\n",
    "print(results)\n"
   ]
  },
  {
   "cell_type": "code",
   "execution_count": 1,
   "metadata": {},
   "outputs": [
    {
     "name": "stdout",
     "output_type": "stream",
     "text": [
      "peak memory: 105.77 MiB, increment: 15.30 MiB\n",
      "[('@narendramodi', 2291), ('@Kisanektamorcha', 1842), ('@RakeshTikaitBKU', 1651), ('@PMOIndia', 1422), ('@RahulGandhi', 1225), ('@GretaThunberg', 1046), ('@RaviSinghKA', 1016), ('@rihanna', 972), ('@UNHumanRights', 962), ('@meenaharris', 925)]\n",
      "CPU times: user 265 ms, sys: 62.5 ms, total: 328 ms\n",
      "Wall time: 779 ms\n"
     ]
    }
   ],
   "source": [
    "%%time\n",
    "%load_ext memory_profiler\n",
    "from q3_time import q3_time\n",
    "\n",
    "\"\"\"\n",
    "\n",
    "Usamos la técnica de Counter.update() porque permite realizar el conteo de elementos de manera \n",
    "muy eficiente, esta función incrementa el contador de cada elemento en un solo paso sin necesidad\n",
    "de recorrer múltiples veces la lista\"\"\"\n",
    "%memit results = q3_time()\n",
    "\n",
    "# Mostrar los resultados\n",
    "print(results)"
   ]
  },
  {
   "cell_type": "code",
   "execution_count": 1,
   "metadata": {},
   "outputs": [
    {
     "name": "stdout",
     "output_type": "stream",
     "text": [
      "peak memory: 98.52 MiB, increment: 7.97 MiB\n",
      "[('@narendramodi', 2291), ('@Kisanektamorcha', 1842), ('@RakeshTikaitBKU', 1651), ('@PMOIndia', 1422), ('@RahulGandhi', 1225), ('@GretaThunberg', 1046), ('@RaviSinghKA', 1016), ('@rihanna', 972), ('@UNHumanRights', 962), ('@meenaharris', 925)]\n",
      "CPU times: user 176 ms, sys: 57.8 ms, total: 234 ms\n",
      "Wall time: 859 ms\n"
     ]
    }
   ],
   "source": [
    "%%time\n",
    "%load_ext memory_profiler\n",
    "from q3_memory import q3_memory\n",
    "\n",
    "\"\"\"\n",
    "Utilicé una técnica de procesamiento directo en la base de datos\n",
    "descomponiendo y contando las menciones dentro de la query SQL.\n",
    "Esto optimiza el uso de memoria al delegar el trabajo al motor de \n",
    "la base de datos, permitiendo que Python solo maneje los resultados preprocesados\n",
    "lo cual es más eficiente para grandes volúmenes de datos.\n",
    "\"\"\"\n",
    "%memit results = q3_memory()\n",
    "\n",
    "# Mostrar los resultados\n",
    "print(results)"
   ]
  },
  {
   "cell_type": "code",
   "execution_count": null,
   "metadata": {},
   "outputs": [],
   "source": []
  }
 ],
 "metadata": {
  "kernelspec": {
   "display_name": "Poetry Kernel",
   "language": "python",
   "name": "challenge-de-fc_d8xbt-py3.11"
  },
  "language_info": {
   "codemirror_mode": {
    "name": "ipython",
    "version": 3
   },
   "file_extension": ".py",
   "mimetype": "text/x-python",
   "name": "python",
   "nbconvert_exporter": "python",
   "pygments_lexer": "ipython3",
   "version": "3.11.7"
  }
 },
 "nbformat": 4,
 "nbformat_minor": 4
}
