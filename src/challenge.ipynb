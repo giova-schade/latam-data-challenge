{
 "cells": [
  {
   "cell_type": "markdown",
   "metadata": {},
   "source": [
    "En este archivo puedes escribir lo que estimes conveniente. Te recomendamos detallar tu solución y todas las suposiciones que estás considerando. Aquí puedes ejecutar las funciones que definiste en los otros archivos de la carpeta src, medir el tiempo, memoria, etc."
   ]
  },
  {
   "cell_type": "code",
   "execution_count": null,
   "metadata": {},
   "outputs": [],
   "source": [
    "#file_path = \"farmers-protest-tweets-2021-2-4.json\""
   ]
  },
  {
   "cell_type": "code",
   "execution_count": 1,
   "metadata": {},
   "outputs": [
    {
     "name": "stdout",
     "output_type": "stream",
     "text": [
      "Please visit this URL to authorize this application: https://accounts.google.com/o/oauth2/auth?response_type=code&client_id=599532363525-5u182ldoepqgj4pqahd8ed1ioadta546.apps.googleusercontent.com&redirect_uri=http%3A%2F%2Flocalhost%3A53619%2F&scope=https%3A%2F%2Fwww.googleapis.com%2Fauth%2Fdrive.readonly&state=FF0XpCzc1lfJfGCIiJO0AWwfW2HOkU&access_type=offline\n",
      "Descargando 100%.\n",
      "Archivos extraídos en: /Users/giovannischadecasteletti/Desktop/Giovanni/proyectos/LATAM/challenge_DE/src/utils/../../data/raw\n",
      "Archivo ZIP eliminado: /Users/giovannischadecasteletti/Desktop/Giovanni/proyectos/LATAM/challenge_DE/src/utils/../../data/raw/tweets.json.zip\n"
     ]
    }
   ],
   "source": [
    "from utils.file_utils import download_and_extract_file\n",
    "#descargo información\n",
    "download_and_extract_file()"
   ]
  },
  {
   "cell_type": "code",
   "execution_count": null,
   "metadata": {},
   "outputs": [],
   "source": []
  }
 ],
 "metadata": {
  "kernelspec": {
   "display_name": "Poetry Kernel",
   "language": "python",
   "name": "challenge-de-fc_d8xbt-py3.11"
  },
  "language_info": {
   "codemirror_mode": {
    "name": "ipython",
    "version": 3
   },
   "file_extension": ".py",
   "mimetype": "text/x-python",
   "name": "python",
   "nbconvert_exporter": "python",
   "pygments_lexer": "ipython3",
   "version": "3.11.7"
  }
 },
 "nbformat": 4,
 "nbformat_minor": 4
}
